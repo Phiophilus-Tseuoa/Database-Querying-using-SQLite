{
 "cells": [
  {
   "cell_type": "code",
   "execution_count": null,
   "id": "08f27ace-bc85-453f-b77b-52350495e042",
   "metadata": {},
   "outputs": [],
   "source": [
    "#install the required libraries\n",
    "!pip install pandas\n",
    "!pip install ipython-sql prettytable \n",
    "\n",
    "import prettytable\n",
    "\n",
    "prettytable.DEFAULT = 'DEFAULT'"
   ]
  },
  {
   "cell_type": "code",
   "execution_count": 4,
   "id": "e3104f77-018b-4003-8719-809d4bcfcf53",
   "metadata": {},
   "outputs": [],
   "source": [
    "#Load the pandas and sqlite3 libraries and establish a connection to FinalDB.db\n",
    "import pandas as pd\n",
    "import sqlite3\n",
    "\n",
    "con = sqlite3.connect(\"FinalDB.db\")\n",
    "cur = con.cursor\n",
    "%sql sqlite:///FinalDB.db"
   ]
  },
  {
   "cell_type": "code",
   "execution_count": 5,
   "id": "26804bef-13e2-4440-a7a4-9507fd11e107",
   "metadata": {},
   "outputs": [],
   "source": [
    "#Load the SQL magic module\n",
    "%reload_ext sql"
   ]
  },
  {
   "cell_type": "code",
   "execution_count": 6,
   "id": "34cd98fb-d30d-46f0-b557-3a5a49c3f8d8",
   "metadata": {},
   "outputs": [],
   "source": [
    "#Use Pandas to load the data\n",
    "\n",
    "import csv\n",
    "df = pd.read_csv(\"https://cf-courses-data.s3.us.cloud-object-storage.appdomain.cloud/IBMDeveloperSkillsNetwork-DB0201EN-SkillsNetwork/labs/FinalModule_Coursera_V5/data/ChicagoCensusData.csv?utm_medium=Exinfluencer&utm_source=Exinfluencer&utm_content=000026UJ&utm_term=10006555&utm_id=NA-SkillsNetwork-Channel-SkillsNetworkCoursesIBMDeveloperSkillsNetworkDB0201ENSkillsNetwork20127838-2021-01-01\")\n",
    "\n",
    "df2 = pd.read_csv(\"https://cf-courses-data.s3.us.cloud-object-storage.appdomain.cloud/IBMDeveloperSkillsNetwork-DB0201EN-SkillsNetwork/labs/FinalModule_Coursera_V5/data/ChicagoPublicSchools.csv?utm_medium=Exinfluencer&utm_source=Exinfluencer&utm_content=000026UJ&utm_term=10006555&utm_id=NA-SkillsNetwork-Channel-SkillsNetworkCoursesIBMDeveloperSkillsNetworkDB0201ENSkillsNetwork20127838-2021-01-01\")\n",
    "\n",
    "df3 = pd.read_csv(\"https://cf-courses-data.s3.us.cloud-object-storage.appdomain.cloud/IBMDeveloperSkillsNetwork-DB0201EN-SkillsNetwork/labs/FinalModule_Coursera_V5/data/ChicagoCrimeData.csv?utm_medium=Exinfluencer&utm_source=Exinfluencer&utm_content=000026UJ&utm_term=10006555&utm_id=NA-SkillsNetwork-Channel-SkillsNetworkCoursesIBMDeveloperSkillsNetworkDB0201ENSkillsNetwork20127838-2021-01-01\")\n"
   ]
  },
  {
   "cell_type": "code",
   "execution_count": 7,
   "id": "ad59043a-e66c-4a44-815e-d53f87e8d813",
   "metadata": {},
   "outputs": [
    {
     "data": {
      "text/plain": [
       "533"
      ]
     },
     "execution_count": 7,
     "metadata": {},
     "output_type": "execute_result"
    }
   ],
   "source": [
    "#Establish a connection between SQL magic module and the database FinalDB.db\n",
    "df.to_sql(\"CHICAGO_CENSUS_DATA\", con, if_exists = 'replace', index = False, method = \"multi\")\n",
    "df2.to_sql(\"CHICAGO_PUBLIC_SCHOOLS_DATA\", con, if_exists = 'replace', index = False, method = \"multi\")\n",
    "df3.to_sql(\"CHICAGO_CRIME_DATA\", con, if_exists = 'replace', index = False, method = \"multi\")"
   ]
  },
  {
   "cell_type": "code",
   "execution_count": null,
   "id": "64aa57a1-b484-433a-a5f4-21a57175ce08",
   "metadata": {},
   "outputs": [],
   "source": [
    "#Find the total number of crimes recorded in the CRIME table."
   ]
  },
  {
   "cell_type": "code",
   "execution_count": 9,
   "id": "81e4be76-b6f7-4ddb-9086-8562deb7b192",
   "metadata": {},
   "outputs": [
    {
     "name": "stdout",
     "output_type": "stream",
     "text": [
      " * sqlite:///FinalDB.db\n",
      "Done.\n"
     ]
    },
    {
     "data": {
      "text/html": [
       "<table>\n",
       "    <thead>\n",
       "        <tr>\n",
       "            <th>count(*)</th>\n",
       "        </tr>\n",
       "    </thead>\n",
       "    <tbody>\n",
       "        <tr>\n",
       "            <td>533</td>\n",
       "        </tr>\n",
       "    </tbody>\n",
       "</table>"
      ],
      "text/plain": [
       "[(533,)]"
      ]
     },
     "execution_count": 9,
     "metadata": {},
     "output_type": "execute_result"
    }
   ],
   "source": [
    "%%sql select count(*) from \n",
    "chicago_crime_data;"
   ]
  },
  {
   "cell_type": "code",
   "execution_count": null,
   "id": "2a020086-161e-45c7-ae97-f6eb713b01a6",
   "metadata": {},
   "outputs": [],
   "source": [
    "#List community area names and numbers with per capita income less than 11000"
   ]
  },
  {
   "cell_type": "code",
   "execution_count": 10,
   "id": "d652c2a4-46db-44e6-a29f-661afeb2b56c",
   "metadata": {},
   "outputs": [
    {
     "name": "stdout",
     "output_type": "stream",
     "text": [
      " * sqlite:///FinalDB.db\n",
      "Done.\n"
     ]
    },
    {
     "data": {
      "text/html": [
       "<table>\n",
       "    <thead>\n",
       "        <tr>\n",
       "            <th>COMMUNITY_AREA_NAME</th>\n",
       "            <th>COMMUNITY_AREA_NUMBER</th>\n",
       "            <th>PER_CAPITA_INCOME</th>\n",
       "        </tr>\n",
       "    </thead>\n",
       "    <tbody>\n",
       "        <tr>\n",
       "            <td>West Garfield Park</td>\n",
       "            <td>26.0</td>\n",
       "            <td>10934</td>\n",
       "        </tr>\n",
       "        <tr>\n",
       "            <td>South Lawndale</td>\n",
       "            <td>30.0</td>\n",
       "            <td>10402</td>\n",
       "        </tr>\n",
       "        <tr>\n",
       "            <td>Fuller Park</td>\n",
       "            <td>37.0</td>\n",
       "            <td>10432</td>\n",
       "        </tr>\n",
       "        <tr>\n",
       "            <td>Riverdale</td>\n",
       "            <td>54.0</td>\n",
       "            <td>8201</td>\n",
       "        </tr>\n",
       "    </tbody>\n",
       "</table>"
      ],
      "text/plain": [
       "[('West Garfield Park', 26.0, 10934),\n",
       " ('South Lawndale', 30.0, 10402),\n",
       " ('Fuller Park', 37.0, 10432),\n",
       " ('Riverdale', 54.0, 8201)]"
      ]
     },
     "execution_count": 10,
     "metadata": {},
     "output_type": "execute_result"
    }
   ],
   "source": [
    "%%sql select COMMUNITY_AREA_NAME, COMMUNITY_AREA_NUMBER, PER_CAPITA_INCOME\n",
    "    from CHICAGO_CENSUS_DATA\n",
    "    where PER_CAPITA_INCOME < 11000;"
   ]
  },
  {
   "cell_type": "code",
   "execution_count": null,
   "id": "e6d8f4a1-d5e2-44dd-9fe2-211a98806b50",
   "metadata": {},
   "outputs": [],
   "source": [
    "#List all case numbers for crimes involving minors?(children are not considered minors for the purposes of crime analysis)"
   ]
  },
  {
   "cell_type": "code",
   "execution_count": 11,
   "id": "a2a0472f-4d18-40e1-ab4d-265956a113ae",
   "metadata": {},
   "outputs": [
    {
     "name": "stdout",
     "output_type": "stream",
     "text": [
      " * sqlite:///FinalDB.db\n",
      "Done.\n"
     ]
    },
    {
     "data": {
      "text/html": [
       "<table>\n",
       "    <thead>\n",
       "        <tr>\n",
       "            <th>CASE_NUMBER</th>\n",
       "        </tr>\n",
       "    </thead>\n",
       "    <tbody>\n",
       "        <tr>\n",
       "            <td>HL266884</td>\n",
       "        </tr>\n",
       "        <tr>\n",
       "            <td>HK238408</td>\n",
       "        </tr>\n",
       "    </tbody>\n",
       "</table>"
      ],
      "text/plain": [
       "[('HL266884',), ('HK238408',)]"
      ]
     },
     "execution_count": 11,
     "metadata": {},
     "output_type": "execute_result"
    }
   ],
   "source": [
    "%%sql SELECT CASE_NUMBER\n",
    "FROM chicago_crime_data\n",
    "WHERE DESCRIPTION LIKE '%MINOR%'\n",
    "  AND DESCRIPTION NOT LIKE '%CHILD%';"
   ]
  },
  {
   "cell_type": "code",
   "execution_count": null,
   "id": "a4fcaa61-9f57-48df-a3eb-a72f109350ac",
   "metadata": {},
   "outputs": [],
   "source": [
    "#List all kidnapping crimes involving a child?"
   ]
  },
  {
   "cell_type": "code",
   "execution_count": 12,
   "id": "8fa97168-4961-4cb0-ae67-3c23aaf88bd1",
   "metadata": {},
   "outputs": [
    {
     "name": "stdout",
     "output_type": "stream",
     "text": [
      " * sqlite:///FinalDB.db\n",
      "Done.\n"
     ]
    },
    {
     "data": {
      "text/html": [
       "<table>\n",
       "    <thead>\n",
       "        <tr>\n",
       "            <th>CASE_NUMBER</th>\n",
       "            <th>PRIMARY_TYPE</th>\n",
       "            <th>DESCRIPTION</th>\n",
       "        </tr>\n",
       "    </thead>\n",
       "    <tbody>\n",
       "        <tr>\n",
       "            <td>HN144152</td>\n",
       "            <td>KIDNAPPING</td>\n",
       "            <td>CHILD ABDUCTION/STRANGER</td>\n",
       "        </tr>\n",
       "    </tbody>\n",
       "</table>"
      ],
      "text/plain": [
       "[('HN144152', 'KIDNAPPING', 'CHILD ABDUCTION/STRANGER')]"
      ]
     },
     "execution_count": 12,
     "metadata": {},
     "output_type": "execute_result"
    }
   ],
   "source": [
    "%%sql SELECT CASE_NUMBER,PRIMARY_TYPE, DESCRIPTION\n",
    "FROM chicago_crime_data\n",
    "WHERE PRIMARY_TYPE = 'KIDNAPPING'\n",
    "  AND DESCRIPTION LIKE '%CHILD%';"
   ]
  },
  {
   "cell_type": "code",
   "execution_count": null,
   "id": "4f8e4b26-803f-4e24-b8df-172054c35c89",
   "metadata": {},
   "outputs": [],
   "source": [
    "#List the kind of crimes that were recorded at schools. (No repetitions)"
   ]
  },
  {
   "cell_type": "code",
   "execution_count": 13,
   "id": "63e582ff-78ef-44e6-b0de-fc025817a03b",
   "metadata": {},
   "outputs": [
    {
     "name": "stdout",
     "output_type": "stream",
     "text": [
      " * sqlite:///FinalDB.db\n",
      "Done.\n"
     ]
    },
    {
     "data": {
      "text/html": [
       "<table>\n",
       "    <thead>\n",
       "        <tr>\n",
       "            <th>PRIMARY_TYPE</th>\n",
       "        </tr>\n",
       "    </thead>\n",
       "    <tbody>\n",
       "        <tr>\n",
       "            <td>BATTERY</td>\n",
       "        </tr>\n",
       "        <tr>\n",
       "            <td>CRIMINAL DAMAGE</td>\n",
       "        </tr>\n",
       "        <tr>\n",
       "            <td>NARCOTICS</td>\n",
       "        </tr>\n",
       "        <tr>\n",
       "            <td>ASSAULT</td>\n",
       "        </tr>\n",
       "        <tr>\n",
       "            <td>CRIMINAL TRESPASS</td>\n",
       "        </tr>\n",
       "        <tr>\n",
       "            <td>PUBLIC PEACE VIOLATION</td>\n",
       "        </tr>\n",
       "    </tbody>\n",
       "</table>"
      ],
      "text/plain": [
       "[('BATTERY',),\n",
       " ('CRIMINAL DAMAGE',),\n",
       " ('NARCOTICS',),\n",
       " ('ASSAULT',),\n",
       " ('CRIMINAL TRESPASS',),\n",
       " ('PUBLIC PEACE VIOLATION',)]"
      ]
     },
     "execution_count": 13,
     "metadata": {},
     "output_type": "execute_result"
    }
   ],
   "source": [
    "%%sql SELECT DISTINCT PRIMARY_TYPE\n",
    "FROM chicago_crime_data\n",
    "WHERE LOCATION_DESCRIPTION LIKE '%SCHOOL%';"
   ]
  },
  {
   "cell_type": "code",
   "execution_count": null,
   "id": "34b411cc-6215-4d48-8350-55987971b363",
   "metadata": {},
   "outputs": [],
   "source": [
    "#List the type of schools along with the average safety score for each type."
   ]
  },
  {
   "cell_type": "code",
   "execution_count": 14,
   "id": "c8a975b4-4d62-48e3-a3f7-0fc581fdc5b1",
   "metadata": {},
   "outputs": [
    {
     "name": "stdout",
     "output_type": "stream",
     "text": [
      " * sqlite:///FinalDB.db\n",
      "Done.\n"
     ]
    },
    {
     "data": {
      "text/html": [
       "<table>\n",
       "    <thead>\n",
       "        <tr>\n",
       "            <th>School_Type</th>\n",
       "            <th>Average_Safety_Score</th>\n",
       "        </tr>\n",
       "    </thead>\n",
       "    <tbody>\n",
       "        <tr>\n",
       "            <td>ES</td>\n",
       "            <td>49.52038369304557</td>\n",
       "        </tr>\n",
       "        <tr>\n",
       "            <td>HS</td>\n",
       "            <td>49.62352941176471</td>\n",
       "        </tr>\n",
       "        <tr>\n",
       "            <td>MS</td>\n",
       "            <td>48.0</td>\n",
       "        </tr>\n",
       "    </tbody>\n",
       "</table>"
      ],
      "text/plain": [
       "[('ES', 49.52038369304557), ('HS', 49.62352941176471), ('MS', 48.0)]"
      ]
     },
     "execution_count": 14,
     "metadata": {},
     "output_type": "execute_result"
    }
   ],
   "source": [
    "%%sql SELECT \n",
    "    \"Elementary, Middle, or High School\" AS School_Type,\n",
    "    AVG(SAFETY_SCORE) AS Average_Safety_Score\n",
    "FROM \n",
    "    chicago_public_schools_data\n",
    "WHERE \n",
    "    SAFETY_SCORE IS NOT NULL\n",
    "GROUP BY \n",
    "    \"Elementary, Middle, or High School\";"
   ]
  },
  {
   "cell_type": "code",
   "execution_count": null,
   "id": "ed3a0af3-1bfe-445d-93cd-33c364b6a36c",
   "metadata": {},
   "outputs": [],
   "source": [
    "#List 5 community areas with highest % of households below poverty line"
   ]
  },
  {
   "cell_type": "code",
   "execution_count": 15,
   "id": "161a2580-d106-4337-b665-ea3b43ba5781",
   "metadata": {},
   "outputs": [
    {
     "name": "stdout",
     "output_type": "stream",
     "text": [
      " * sqlite:///FinalDB.db\n",
      "Done.\n"
     ]
    },
    {
     "data": {
      "text/html": [
       "<table>\n",
       "    <thead>\n",
       "        <tr>\n",
       "            <th>COMMUNITY_AREA_NAME</th>\n",
       "            <th>PERCENT_HOUSEHOLDS_BELOW_POVERTY</th>\n",
       "        </tr>\n",
       "    </thead>\n",
       "    <tbody>\n",
       "        <tr>\n",
       "            <td>Riverdale</td>\n",
       "            <td>56.5</td>\n",
       "        </tr>\n",
       "        <tr>\n",
       "            <td>Fuller Park</td>\n",
       "            <td>51.2</td>\n",
       "        </tr>\n",
       "        <tr>\n",
       "            <td>Englewood</td>\n",
       "            <td>46.6</td>\n",
       "        </tr>\n",
       "        <tr>\n",
       "            <td>North Lawndale</td>\n",
       "            <td>43.1</td>\n",
       "        </tr>\n",
       "        <tr>\n",
       "            <td>East Garfield Park</td>\n",
       "            <td>42.4</td>\n",
       "        </tr>\n",
       "    </tbody>\n",
       "</table>"
      ],
      "text/plain": [
       "[('Riverdale', 56.5),\n",
       " ('Fuller Park', 51.2),\n",
       " ('Englewood', 46.6),\n",
       " ('North Lawndale', 43.1),\n",
       " ('East Garfield Park', 42.4)]"
      ]
     },
     "execution_count": 15,
     "metadata": {},
     "output_type": "execute_result"
    }
   ],
   "source": [
    "%%sql SELECT COMMUNITY_AREA_NAME, PERCENT_HOUSEHOLDS_BELOW_POVERTY\n",
    "FROM chicago_census_data\n",
    "ORDER BY PERCENT_HOUSEHOLDS_BELOW_POVERTY DESC\n",
    "LIMIT 5;"
   ]
  },
  {
   "cell_type": "code",
   "execution_count": null,
   "id": "8942ea7e-753f-42d3-a4bf-53c1d03eaf4a",
   "metadata": {},
   "outputs": [],
   "source": [
    "#Which community area is most crime prone? Display the coumminty area number only"
   ]
  },
  {
   "cell_type": "code",
   "execution_count": 16,
   "id": "97671cfa-a450-4d8f-a02d-f25818e82d90",
   "metadata": {},
   "outputs": [
    {
     "name": "stdout",
     "output_type": "stream",
     "text": [
      " * sqlite:///FinalDB.db\n",
      "Done.\n"
     ]
    },
    {
     "data": {
      "text/html": [
       "<table>\n",
       "    <thead>\n",
       "        <tr>\n",
       "            <th>COMMUNITY_AREA_NUMBER</th>\n",
       "        </tr>\n",
       "    </thead>\n",
       "    <tbody>\n",
       "        <tr>\n",
       "            <td>25.0</td>\n",
       "        </tr>\n",
       "    </tbody>\n",
       "</table>"
      ],
      "text/plain": [
       "[(25.0,)]"
      ]
     },
     "execution_count": 16,
     "metadata": {},
     "output_type": "execute_result"
    }
   ],
   "source": [
    "%%sql SELECT COMMUNITY_AREA_NUMBER\n",
    "FROM chicago_crime_data\n",
    "GROUP BY COMMUNITY_AREA_NUMBER\n",
    "ORDER BY COUNT(*) DESC\n",
    "LIMIT 1;"
   ]
  },
  {
   "cell_type": "code",
   "execution_count": null,
   "id": "beb9bbb0-aab4-44d3-9a24-aef2cccd7094",
   "metadata": {},
   "outputs": [],
   "source": [
    "#Use a sub-query to find the name of the community area with highest hardship index"
   ]
  },
  {
   "cell_type": "code",
   "execution_count": 17,
   "id": "56acdef0-9e2c-4929-b60d-c2525aed395c",
   "metadata": {},
   "outputs": [
    {
     "name": "stdout",
     "output_type": "stream",
     "text": [
      " * sqlite:///FinalDB.db\n",
      "Done.\n"
     ]
    },
    {
     "data": {
      "text/html": [
       "<table>\n",
       "    <thead>\n",
       "        <tr>\n",
       "            <th>COMMUNITY_AREA_NAME</th>\n",
       "        </tr>\n",
       "    </thead>\n",
       "    <tbody>\n",
       "        <tr>\n",
       "            <td>Riverdale</td>\n",
       "        </tr>\n",
       "    </tbody>\n",
       "</table>"
      ],
      "text/plain": [
       "[('Riverdale',)]"
      ]
     },
     "execution_count": 17,
     "metadata": {},
     "output_type": "execute_result"
    }
   ],
   "source": [
    "%%sql SELECT COMMUNITY_AREA_NAME\n",
    "FROM chicago_census_data\n",
    "WHERE HARDSHIP_INDEX = (\n",
    "    SELECT MAX(HARDSHIP_INDEX)\n",
    "    FROM chicago_census_data\n",
    ");"
   ]
  },
  {
   "cell_type": "code",
   "execution_count": null,
   "id": "52c40409-5770-480c-9ccd-b78069f1447a",
   "metadata": {},
   "outputs": [],
   "source": [
    "#Use a sub-query to determine the Community Area Name with most number of crimes?"
   ]
  },
  {
   "cell_type": "code",
   "execution_count": 18,
   "id": "68c47dd2-4e3c-45f7-a16b-c236d37ac5ce",
   "metadata": {},
   "outputs": [
    {
     "name": "stdout",
     "output_type": "stream",
     "text": [
      " * sqlite:///FinalDB.db\n",
      "Done.\n"
     ]
    },
    {
     "data": {
      "text/html": [
       "<table>\n",
       "    <thead>\n",
       "        <tr>\n",
       "            <th>COMMUNITY_AREA_NAME</th>\n",
       "        </tr>\n",
       "    </thead>\n",
       "    <tbody>\n",
       "        <tr>\n",
       "            <td>Austin</td>\n",
       "        </tr>\n",
       "    </tbody>\n",
       "</table>"
      ],
      "text/plain": [
       "[('Austin',)]"
      ]
     },
     "execution_count": 18,
     "metadata": {},
     "output_type": "execute_result"
    }
   ],
   "source": [
    "%%sql SELECT COMMUNITY_AREA_NAME\n",
    "FROM chicago_census_data\n",
    "WHERE COMMUNITY_AREA_NUMBER = (\n",
    "    SELECT COMMUNITY_AREA_NUMBER\n",
    "    FROM chicago_crime_data\n",
    "    GROUP BY COMMUNITY_AREA_NUMBER\n",
    "    ORDER BY COUNT(*) DESC\n",
    "    LIMIT 1\n",
    ");"
   ]
  },
  {
   "cell_type": "code",
   "execution_count": null,
   "id": "ca516a04-d3e0-4f79-9168-0e797fd82e13",
   "metadata": {},
   "outputs": [],
   "source": []
  }
 ],
 "metadata": {
  "kernelspec": {
   "display_name": "Python 3 (ipykernel)",
   "language": "python",
   "name": "python3"
  },
  "language_info": {
   "codemirror_mode": {
    "name": "ipython",
    "version": 3
   },
   "file_extension": ".py",
   "mimetype": "text/x-python",
   "name": "python",
   "nbconvert_exporter": "python",
   "pygments_lexer": "ipython3",
   "version": "3.12.8"
  }
 },
 "nbformat": 4,
 "nbformat_minor": 5
}
